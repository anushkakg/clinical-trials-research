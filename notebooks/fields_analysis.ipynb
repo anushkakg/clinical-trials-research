{
 "cells": [
  {
   "cell_type": "code",
   "execution_count": 12,
   "metadata": {},
   "outputs": [],
   "source": [
    "import httpx\n",
    "import sqlalchemy\n",
    "from pydantic import BaseModel"
   ]
  },
  {
   "cell_type": "code",
   "execution_count": 13,
   "metadata": {},
   "outputs": [],
   "source": [
    "class FieldResponse(BaseModel):\n",
    "    type: str\n",
    "    piece: str\n",
    "    field: str\n",
    "    missingStudiesCount: int\n",
    "    uniqueValuesCount: int"
   ]
  },
  {
   "cell_type": "code",
   "execution_count": 17,
   "metadata": {},
   "outputs": [
    {
     "name": "stdout",
     "output_type": "stream",
     "text": [
      "{'type': 'ENUM', 'piece': 'Phase', 'field': 'protocolSection.designModule.phases', 'missingStudiesCount': 113676, 'uniqueValuesCount': 6}\n"
     ]
    }
   ],
   "source": [
    "response_json = httpx.get(\n",
    "    \"https://clinicaltrials.gov/api/v2/stats/field/values?fields=Phase\"\n",
    ").json()\n",
    "response = FieldResponse(**response_json[0])\n",
    "print(response.model_dump())"
   ]
  },
  {
   "cell_type": "code",
   "execution_count": 18,
   "metadata": {},
   "outputs": [
    {
     "name": "stdout",
     "output_type": "stream",
     "text": [
      "protocolSection.designModule.phases\n"
     ]
    }
   ],
   "source": [
    "print(response.field)"
   ]
  }
 ],
 "metadata": {
  "kernelspec": {
   "display_name": ".venv",
   "language": "python",
   "name": "python3"
  },
  "language_info": {
   "codemirror_mode": {
    "name": "ipython",
    "version": 3
   },
   "file_extension": ".py",
   "mimetype": "text/x-python",
   "name": "python",
   "nbconvert_exporter": "python",
   "pygments_lexer": "ipython3",
   "version": "3.12.2"
  }
 },
 "nbformat": 4,
 "nbformat_minor": 2
}
